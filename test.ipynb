{
 "cells": [
  {
   "metadata": {
    "ExecuteTime": {
     "end_time": "2024-07-04T04:13:59.968173Z",
     "start_time": "2024-07-04T04:13:59.481609Z"
    }
   },
   "cell_type": "code",
   "source": [
    "import lamda\n",
    "import numpy as np\n",
    "import pandas as pd\n",
    "import ast\n",
    "\n",
    "movies = pd.read_csv('movies.csv')\n",
    "credits = pd.read_csv('credits.csv')"
   ],
   "id": "96732bb11737e307",
   "outputs": [],
   "execution_count": 91
  },
  {
   "metadata": {
    "ExecuteTime": {
     "end_time": "2024-07-04T04:13:59.999176Z",
     "start_time": "2024-07-04T04:13:59.970173Z"
    }
   },
   "cell_type": "code",
   "source": "movies = movies.merge(credits, on='title')",
   "id": "9b58fa0795df74ed",
   "outputs": [],
   "execution_count": 92
  },
  {
   "metadata": {
    "ExecuteTime": {
     "end_time": "2024-07-04T04:14:00.785147Z",
     "start_time": "2024-07-04T04:14:00.773649Z"
    }
   },
   "cell_type": "code",
   "source": "movies = movies[['movie_id', 'title', 'overview', 'genres', 'keywords', 'cast', 'crew']]",
   "id": "d36f0c97b93ef0e0",
   "outputs": [],
   "execution_count": 93
  },
  {
   "metadata": {
    "ExecuteTime": {
     "end_time": "2024-07-04T04:14:01.402634Z",
     "start_time": "2024-07-04T04:14:01.392635Z"
    }
   },
   "cell_type": "code",
   "source": "movies.dropna(inplace=True)",
   "id": "10b37f60728f21d3",
   "outputs": [],
   "execution_count": 94
  },
  {
   "metadata": {
    "ExecuteTime": {
     "end_time": "2024-07-04T04:14:01.974073Z",
     "start_time": "2024-07-04T04:14:01.958063Z"
    }
   },
   "cell_type": "code",
   "source": [
    "def convert(obj):\n",
    "    templist=[]\n",
    "    for i in ast.literal_eval(obj):\n",
    "        templist.append(i['name'])\n",
    "    return templist"
   ],
   "id": "db1208d6716f6770",
   "outputs": [],
   "execution_count": 95
  },
  {
   "metadata": {
    "ExecuteTime": {
     "end_time": "2024-07-04T04:14:02.916042Z",
     "start_time": "2024-07-04T04:14:02.591756Z"
    }
   },
   "cell_type": "code",
   "source": [
    "movies['genres'] = movies['genres'].apply(convert)\n",
    "movies['keywords'] = movies['keywords'].apply(convert)"
   ],
   "id": "978f4620e921904f",
   "outputs": [],
   "execution_count": 96
  },
  {
   "metadata": {
    "ExecuteTime": {
     "end_time": "2024-07-04T04:14:05.470760Z",
     "start_time": "2024-07-04T04:14:03.402182Z"
    }
   },
   "cell_type": "code",
   "source": [
    "def convert3(obj):\n",
    "    templist=[]\n",
    "    counter = 0\n",
    "    for i in ast.literal_eval(obj):\n",
    "        if counter != 3:\n",
    "            templist.append(i['name'])\n",
    "            counter += 1\n",
    "        else:\n",
    "            break\n",
    "    return templist\n",
    "    \n",
    "movies['cast'] = movies['cast'].apply(convert3)"
   ],
   "id": "566fb5e0059dd9d2",
   "outputs": [],
   "execution_count": 97
  },
  {
   "metadata": {
    "ExecuteTime": {
     "end_time": "2024-07-04T04:14:08.351137Z",
     "start_time": "2024-07-04T04:14:06.144094Z"
    }
   },
   "cell_type": "code",
   "source": [
    "def fetch_director(obj):\n",
    "    templist=[]\n",
    "    for i in ast.literal_eval(obj):\n",
    "        if i['job'] == 'Director':\n",
    "            templist.append(i['name'])\n",
    "    return templist\n",
    "    \n",
    "movies['crew'] = movies['crew'].apply(fetch_director)"
   ],
   "id": "e827ae0b9879a1e1",
   "outputs": [],
   "execution_count": 98
  },
  {
   "metadata": {
    "ExecuteTime": {
     "end_time": "2024-07-04T04:14:09.230433Z",
     "start_time": "2024-07-04T04:14:09.211933Z"
    }
   },
   "cell_type": "code",
   "source": "movies['overview'] = movies['overview'].apply(lambda x:x.split())",
   "id": "fba73954a0e8e0bd",
   "outputs": [],
   "execution_count": 99
  },
  {
   "metadata": {
    "ExecuteTime": {
     "end_time": "2024-07-04T04:14:10.356828Z",
     "start_time": "2024-07-04T04:14:10.322326Z"
    }
   },
   "cell_type": "code",
   "source": [
    "movies['genres'] = movies['genres'].apply(lambda x:[i.replace(\" \",\"\") for i in x])\n",
    "movies['keywords'] = movies['keywords'].apply(lambda x:[i.replace(\" \",\"\") for i in x])\n",
    "movies['cast'] = movies['cast'].apply(lambda x:[i.replace(\" \",\"\") for i in x])\n",
    "movies['crew'] = movies['crew'].apply(lambda x:[i.replace(\" \",\"\") for i in x])"
   ],
   "id": "3ec41271f800c32b",
   "outputs": [],
   "execution_count": 100
  },
  {
   "metadata": {
    "ExecuteTime": {
     "end_time": "2024-07-04T04:16:09.968979Z",
     "start_time": "2024-07-04T04:16:09.815172Z"
    }
   },
   "cell_type": "code",
   "source": "movies['tags'] = movies['overview'] + movies['genres'] + movies['keywords'] + movies['cast'] + movies['crew']",
   "id": "857c50b64e93e4df",
   "outputs": [],
   "execution_count": 102
  },
  {
   "metadata": {
    "ExecuteTime": {
     "end_time": "2024-07-04T04:17:58.967541Z",
     "start_time": "2024-07-04T04:17:58.953521Z"
    }
   },
   "cell_type": "code",
   "source": "movies2 = movies[['movie_id', 'title', 'tags']]",
   "id": "3b47b2a414b18cf5",
   "outputs": [],
   "execution_count": 104
  },
  {
   "metadata": {
    "ExecuteTime": {
     "end_time": "2024-07-04T04:19:31.343659Z",
     "start_time": "2024-07-04T04:19:31.331146Z"
    }
   },
   "cell_type": "code",
   "source": "movies2['tags'] = movies2['tags'].apply(lambda x:' '.join(x))",
   "id": "8599e19bf0da552c",
   "outputs": [
    {
     "name": "stderr",
     "output_type": "stream",
     "text": [
      "C:\\Users\\heatb\\AppData\\Local\\Temp\\ipykernel_72028\\221509110.py:1: SettingWithCopyWarning: \n",
      "A value is trying to be set on a copy of a slice from a DataFrame.\n",
      "Try using .loc[row_indexer,col_indexer] = value instead\n",
      "\n",
      "See the caveats in the documentation: https://pandas.pydata.org/pandas-docs/stable/user_guide/indexing.html#returning-a-view-versus-a-copy\n",
      "  movies2['tags'] = movies2['tags'].apply(lambda x:' '.join(x))\n"
     ]
    }
   ],
   "execution_count": 106
  },
  {
   "metadata": {
    "ExecuteTime": {
     "end_time": "2024-07-04T04:21:43.589891Z",
     "start_time": "2024-07-04T04:21:43.569894Z"
    }
   },
   "cell_type": "code",
   "source": "movies2['tags'] = movies2['tags'].apply(lambda X:X.lower())",
   "id": "8b80e9c556bcae61",
   "outputs": [
    {
     "name": "stderr",
     "output_type": "stream",
     "text": [
      "C:\\Users\\heatb\\AppData\\Local\\Temp\\ipykernel_72028\\110294168.py:1: SettingWithCopyWarning: \n",
      "A value is trying to be set on a copy of a slice from a DataFrame.\n",
      "Try using .loc[row_indexer,col_indexer] = value instead\n",
      "\n",
      "See the caveats in the documentation: https://pandas.pydata.org/pandas-docs/stable/user_guide/indexing.html#returning-a-view-versus-a-copy\n",
      "  movies2['tags'] = movies2['tags'].apply(lambda X:X.lower())\n"
     ]
    }
   ],
   "execution_count": 109
  },
  {
   "metadata": {
    "ExecuteTime": {
     "end_time": "2024-07-04T04:23:09.655110Z",
     "start_time": "2024-07-04T04:23:09.638090Z"
    }
   },
   "cell_type": "code",
   "source": [
    "from sklearn.feature_extraction.text import CountVectorizer\n",
    "cv = CountVectorizer(max_features=5000, stop_words='english')"
   ],
   "id": "bc33ae1fff95233",
   "outputs": [],
   "execution_count": 111
  },
  {
   "metadata": {
    "ExecuteTime": {
     "end_time": "2024-07-04T04:25:49.004793Z",
     "start_time": "2024-07-04T04:25:48.782523Z"
    }
   },
   "cell_type": "code",
   "source": "vectors = cv.fit_transform(movies2['tags']).toarray()",
   "id": "ee6b7d1158eb01af",
   "outputs": [],
   "execution_count": 114
  },
  {
   "metadata": {
    "ExecuteTime": {
     "end_time": "2024-07-04T04:28:26.871755Z",
     "start_time": "2024-07-04T04:28:26.024604Z"
    }
   },
   "cell_type": "code",
   "source": [
    "import nltk\n",
    "from nltk.stem.porter import PorterStemmer\n",
    "ps = PorterStemmer()"
   ],
   "id": "ee781752a993bec1",
   "outputs": [],
   "execution_count": 115
  },
  {
   "metadata": {
    "ExecuteTime": {
     "end_time": "2024-07-04T04:29:32.829274Z",
     "start_time": "2024-07-04T04:29:32.812760Z"
    }
   },
   "cell_type": "code",
   "source": [
    "def stem(text):\n",
    "    y = []\n",
    "    for i in text.split():\n",
    "        y.append(ps.stem(i))\n",
    "    return \" \".join(y)"
   ],
   "id": "57ec5d7123156565",
   "outputs": [],
   "execution_count": 116
  },
  {
   "metadata": {
    "ExecuteTime": {
     "end_time": "2024-07-04T04:30:04.799911Z",
     "start_time": "2024-07-04T04:30:01.927414Z"
    }
   },
   "cell_type": "code",
   "source": "movies2['tags'] = movies2['tags'].apply(stem)",
   "id": "731e535fd28fbeed",
   "outputs": [
    {
     "name": "stderr",
     "output_type": "stream",
     "text": [
      "C:\\Users\\heatb\\AppData\\Local\\Temp\\ipykernel_72028\\4172303934.py:1: SettingWithCopyWarning: \n",
      "A value is trying to be set on a copy of a slice from a DataFrame.\n",
      "Try using .loc[row_indexer,col_indexer] = value instead\n",
      "\n",
      "See the caveats in the documentation: https://pandas.pydata.org/pandas-docs/stable/user_guide/indexing.html#returning-a-view-versus-a-copy\n",
      "  movies2['tags'] = movies2['tags'].apply(stem)\n"
     ]
    }
   ],
   "execution_count": 117
  },
  {
   "metadata": {
    "ExecuteTime": {
     "end_time": "2024-07-04T04:31:01.410199Z",
     "start_time": "2024-07-04T04:31:01.407181Z"
    }
   },
   "cell_type": "code",
   "source": "from sklearn.metrics.pairwise import cosine_similarity",
   "id": "7d1d5c1bc877b9b4",
   "outputs": [],
   "execution_count": 118
  },
  {
   "metadata": {
    "ExecuteTime": {
     "end_time": "2024-07-04T04:32:46.335379Z",
     "start_time": "2024-07-04T04:32:45.629084Z"
    }
   },
   "cell_type": "code",
   "source": "similarity = cosine_similarity(vectors)",
   "id": "c37d6d14ee20a134",
   "outputs": [],
   "execution_count": 119
  },
  {
   "metadata": {
    "ExecuteTime": {
     "end_time": "2024-07-04T04:34:50.379872Z",
     "start_time": "2024-07-04T04:34:50.358838Z"
    }
   },
   "cell_type": "code",
   "source": "sorted(list(enumerate(similarity[0])), key=lambda x:x[1], reverse=True)[1:6]",
   "id": "ca6de0b69878fe80",
   "outputs": [
    {
     "data": {
      "text/plain": [
       "[(539, np.float64(0.25724787771376323)),\n",
       " (1192, np.float64(0.24873416908154544)),\n",
       " (260, np.float64(0.24759378423606915)),\n",
       " (1214, np.float64(0.24595492912420727)),\n",
       " (507, np.float64(0.24498947175305572))]"
      ]
     },
     "execution_count": 120,
     "metadata": {},
     "output_type": "execute_result"
    }
   ],
   "execution_count": 120
  },
  {
   "metadata": {
    "ExecuteTime": {
     "end_time": "2024-07-04T04:38:23.893879Z",
     "start_time": "2024-07-04T04:38:23.879865Z"
    }
   },
   "cell_type": "code",
   "source": [
    "def recommend(movie):\n",
    "    movie_index = movies2[movies2['title'] == movie].index[0]\n",
    "    distances = similarity[movie_index]\n",
    "    movies_list = sorted(list(enumerate(distances)), key=lambda x:x[1], reverse=True)[1:6]\n",
    "    \n",
    "    for i in movies_list:\n",
    "        print(movies2.iloc[i[0]].title)"
   ],
   "id": "aaf534412734af6c",
   "outputs": [],
   "execution_count": 121
  },
  {
   "metadata": {
    "ExecuteTime": {
     "end_time": "2024-07-04T04:40:18.023091Z",
     "start_time": "2024-07-04T04:40:18.008589Z"
    }
   },
   "cell_type": "code",
   "source": "recommend('National Treasure')",
   "id": "dbc0de1c6b7849c1",
   "outputs": [
    {
     "name": "stdout",
     "output_type": "stream",
     "text": [
      "Lara Croft: Tomb Raider\n",
      "Indiana Jones and the Kingdom of the Crystal Skull\n",
      "Lara Croft Tomb Raider: The Cradle of Life\n",
      "Raiders of the Lost Ark\n",
      "Indiana Jones and the Last Crusade\n"
     ]
    }
   ],
   "execution_count": 125
  },
  {
   "metadata": {},
   "cell_type": "code",
   "outputs": [],
   "execution_count": null,
   "source": "",
   "id": "5f414a4e88cd41ea"
  }
 ],
 "metadata": {
  "kernelspec": {
   "display_name": "Python 3 (ipykernel)",
   "language": "python",
   "name": "python3"
  },
  "language_info": {
   "codemirror_mode": {
    "name": "ipython",
    "version": 3
   },
   "file_extension": ".py",
   "mimetype": "text/x-python",
   "name": "python",
   "nbconvert_exporter": "python",
   "pygments_lexer": "ipython3",
   "version": "3.10.4"
  }
 },
 "nbformat": 4,
 "nbformat_minor": 5
}

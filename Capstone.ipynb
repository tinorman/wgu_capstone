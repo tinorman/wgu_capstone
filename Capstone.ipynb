{
 "cells": [
  {
   "metadata": {},
   "cell_type": "markdown",
   "source": "Welcome to the movie recommendation system. Please run the following cell to begin.",
   "id": "c4933557f8e6ff86"
  },
  {
   "cell_type": "code",
   "execution_count": 2,
   "id": "initial_id",
   "metadata": {
    "ExecuteTime": {
     "end_time": "2024-07-30T02:21:28.671399Z",
     "start_time": "2024-07-30T02:21:18.618504Z"
    }
   },
   "outputs": [
    {
     "name": "stdin",
     "output_type": "stream",
     "text": [
      "Enter the title of a movie you enjoyed:  up\n"
     ]
    },
    {
     "name": "stdout",
     "output_type": "stream",
     "text": [
      "Movie recommendations based off up.\n",
      "1. raising helen\n",
      "2. ice age: dawn of the dinosaurs\n",
      "3. inside out\n",
      "4. holy motors\n",
      "5. martin lawrence live: runteldat\n"
     ]
    }
   ],
   "source": [
    "#Importing all the needed libraries\n",
    "from sklearn.metrics import mean_squared_error\n",
    "import ast\n",
    "import pandas as pd\n",
    "from sklearn.feature_extraction.text import TfidfVectorizer\n",
    "from sklearn.neighbors import NearestNeighbors\n",
    "from sklearn.decomposition import TruncatedSVD\n",
    "import matplotlib.pyplot as plt\n",
    "import seaborn as sns\n",
    "import numpy as np\n",
    "\n",
    "#Getting user input\n",
    "user_input = input(\"Enter the title of a movie you enjoyed: \")\n",
    "\n",
    "#Data manipulation\n",
    "#Reading in the csv files\n",
    "movies_df = pd.read_csv('movies.csv')\n",
    "credits_df = pd.read_csv('credits.csv')\n",
    "\n",
    "#Merge the csv files into one dataframe\n",
    "ratings = movies_df.merge(credits_df, on='title', how='left')\n",
    "\n",
    "#Make the titles lowercase to prevent case-sensitive errors\n",
    "ratings['title'] = ratings['title'].str.lower()\n",
    "\n",
    "#Drop unnecessary columns\n",
    "ratings = ratings[['movie_id', 'title', 'overview', 'genres', 'keywords', 'cast', 'crew']]\n",
    "\n",
    "ratings.dropna(inplace=True)\n",
    "\n",
    "#Simplifying the dataframe\n",
    "def data_processor_1(obj):\n",
    "    temp_ratings = []\n",
    "    for row in ast.literal_eval(obj):\n",
    "        temp_ratings.append(row['name'])\n",
    "    return temp_ratings\n",
    "\n",
    "ratings['genres'] = ratings['genres'].apply(data_processor_1)\n",
    "ratings['keywords'] = ratings['keywords'].apply(data_processor_1)\n",
    "\n",
    "def data_processor_2(obj):\n",
    "    temp_ratings = []\n",
    "    counter = 0\n",
    "    for row in ast.literal_eval(obj):\n",
    "        if counter != 3:\n",
    "            temp_ratings.append(row['name'])\n",
    "            counter += 1\n",
    "        else:\n",
    "            break\n",
    "    return temp_ratings\n",
    "\n",
    "ratings['cast'] = ratings['cast'].apply(data_processor_2)\n",
    "\n",
    "def data_processor_3(obj):\n",
    "    temp_ratings = []\n",
    "    for row in ast.literal_eval(obj):\n",
    "        if row['job'] == 'Director':\n",
    "            temp_ratings.append(row['name'])\n",
    "    return temp_ratings\n",
    "\n",
    "ratings['crew'] = ratings['crew'].apply(data_processor_3)\n",
    "\n",
    "#Seperating each word\n",
    "ratings['overview'] = ratings['overview'].apply(lambda x: x.split())\n",
    "ratings['genres'] = ratings['genres'].apply(lambda x: [i.replace(\" \", \"\") for i in x])\n",
    "ratings['keywords'] = ratings['keywords'].apply(lambda x: [i.replace(\" \", \"\") for i in x])\n",
    "ratings['cast'] = ratings['cast'].apply(lambda x: [i.replace(\" \", \"\") for i in x])\n",
    "ratings['crew'] = ratings['crew'].apply(lambda x: [i.replace(\" \", \"\") for i in x])\n",
    "\n",
    "ratings['tags'] = ratings['overview'] + ratings['genres'] + ratings['keywords'] + ratings['cast'] + ratings['crew']\n",
    "\n",
    "ratings['tags'] = ratings['tags'].apply(lambda x:' '.join(x))\n",
    "ratings['tags'] = ratings['tags'].apply(lambda X:X.lower())\n",
    "\n",
    "#Creating another dataframe with less columns\n",
    "simple_ratings = ratings[['movie_id', 'title', 'tags']]\n",
    "\n",
    "#Creating the main machine learning model\n",
    "model = NearestNeighbors(metric='cosine', algorithm='auto')\n",
    "\n",
    "#Creating the TFIDF matrix\n",
    "tfidf = TfidfVectorizer(stop_words='english')\n",
    "tfidf_matrix = tfidf.fit_transform(simple_ratings['tags'].fillna(''))\n",
    "\n",
    "#Creating the TSVD matrix\n",
    "svd = TruncatedSVD(n_components=100)\n",
    "svd_matrix = svd.fit_transform(tfidf_matrix)\n",
    "\n",
    "#Loading the matrix\n",
    "model.fit(svd_matrix)\n",
    "\n",
    "#Main machine learning function\n",
    "def movie_recommend(movie_title, ratings, model, top_n=5):\n",
    "    movie_index = ratings[ratings['title'] == movie_title].index\n",
    "    \n",
    "    if not movie_index.empty:\n",
    "        movie_index = movie_index[0]\n",
    "        input_vector = svd_matrix[movie_index].reshape(1, -1)\n",
    "        distances, indices = model.kneighbors(input_vector, n_neighbors=top_n+1)\n",
    "        recommendations = ratings.iloc[indices.flatten()[1:]]['title'].tolist()\n",
    "        return recommendations\n",
    "    else:\n",
    "        return []\n",
    "    \n",
    "\n",
    "#Printing the results    \n",
    "user_input_value = user_input.lower()\n",
    "if user_input_value not in ratings['title'].str.lower().values:\n",
    "    print(\"Sorry, that movie was not found in our database.\")\n",
    "    \n",
    "else:\n",
    "    movies_recommended = movie_recommend(user_input_value, simple_ratings, model)\n",
    "    print(f\"Movie recommendations based off {user_input_value}.\")\n",
    "    i = 1\n",
    "    for movie in movies_recommended:\n",
    "        print(f\"{i}. {movie}\")\n",
    "        i += 1     "
   ]
  },
  {
   "metadata": {},
   "cell_type": "markdown",
   "source": "After receiving your personalized results, please manually click the next cell, then run it and all remaining cells.",
   "id": "c3cbf7a181588cb0"
  },
  {
   "cell_type": "code",
   "execution_count": null,
   "id": "c51a36d2274bc45e",
   "metadata": {
    "ExecuteTime": {
     "end_time": "2024-07-30T02:21:31.090238Z",
     "start_time": "2024-07-30T02:21:30.869706Z"
    }
   },
   "outputs": [],
   "source": [
    "#Creating a chart visualizing movie recommendations\n",
    "movie_index = ratings[ratings['title'] == user_input].index\n",
    "    \n",
    "if not movie_index.empty:\n",
    "    movie_index = movie_index[0]\n",
    "    input_vector = svd_matrix[movie_index].reshape(1, -1)\n",
    "    distances, indices = model.kneighbors(input_vector, n_neighbors=11)\n",
    "    recommended_titles = ratings.iloc[indices.flatten()[1:]]['title'].tolist()\n",
    "    distances = distances.flatten()[1:]\n",
    "        \n",
    "    df_recommendations = pd.DataFrame({\n",
    "        'Movie': recommended_titles,\n",
    "        'Distance': distances\n",
    "    })\n",
    "       \n",
    "    plt.figure(figsize=(10, 6))\n",
    "    sns.barplot(x='Distance', y='Movie', data=df_recommendations, legend=False)\n",
    "    plt.ylabel('Movie Title')\n",
    "    plt.xlabel('Similarity (lower is better)')\n",
    "    plt.title(f'Recommendations for {user_input}')\n",
    "    plt.show()\n",
    "else:\n",
    "    print(\"Sorry, that movie was not found in our database.\")"
   ]
  },
  {
   "cell_type": "code",
   "execution_count": null,
   "id": "4c2ccb1b98ae07f9",
   "metadata": {
    "ExecuteTime": {
     "end_time": "2024-07-24T15:48:31.141281Z",
     "start_time": "2024-07-24T15:48:30.568203Z"
    }
   },
   "outputs": [],
   "source": [
    "# TF-IDF Validation\n",
    "print(\"TFIDF Scores:\")\n",
    "s_titles = tfidf.get_feature_names_out()\n",
    "s_scores = tfidf_matrix.toarray().flatten()\n",
    "word_scores = [(word, s_scores) for word, s_scores in zip(s_titles, s_scores)]\n",
    "word_scores.sort(key=lambda x: x[1], reverse=True)\n",
    "for word, s_scores in word_scores[:50]:\n",
    "    print(f\"{word}: {s_scores: .3f}\")\n",
    "        \n",
    "print()"
   ]
  },
  {
   "cell_type": "code",
   "execution_count": null,
   "id": "5603449cc90499a1",
   "metadata": {
    "ExecuteTime": {
     "end_time": "2024-07-24T15:48:59.053557Z",
     "start_time": "2024-07-24T15:48:58.830013Z"
    }
   },
   "outputs": [],
   "source": [
    "#Creating a graph to visualize TFIDF validation\n",
    "tf_index = 0\n",
    "tf_scores = tfidf_matrix[tf_index].toarray().flatten()\n",
    "tf_titles = tfidf.get_feature_names_out()\n",
    "\n",
    "non_zero = tf_scores > 0\n",
    "filtered_scores = tf_scores[non_zero]\n",
    "filtered_features = np.array(tf_titles)[non_zero]\n",
    "\n",
    "sorted_indices = np.argsort(filtered_scores)[::-1]\n",
    "sorted_scores = filtered_scores[sorted_indices]\n",
    "sorted_features = filtered_features[sorted_indices]\n",
    "\n",
    "plt.figure(figsize=(12, 8))\n",
    "plt.barh(sorted_features[:50], sorted_scores[:50], color='skyblue')\n",
    "plt.xlabel('TF-IDF Score')\n",
    "plt.title(f'Top 50 TF-IDF Scores')\n",
    "plt.gca().invert_yaxis()\n",
    "plt.show()"
   ]
  },
  {
   "cell_type": "code",
   "execution_count": null,
   "id": "9f118fd7dea0c8ae",
   "metadata": {
    "ExecuteTime": {
     "end_time": "2024-07-24T15:49:07.413721Z",
     "start_time": "2024-07-24T15:49:05.678334Z"
    }
   },
   "outputs": [],
   "source": [
    "# Truncated SVD Validation\n",
    "reconstructed_matrix = svd.inverse_transform(svd_matrix)\n",
    "reconstruction_error = mean_squared_error(tfidf_matrix.toarray(),reconstructed_matrix)\n",
    "decimal_number = reconstruction_error\n",
    "print(f\"Truncated SVD reconstruction error: {decimal_number:.10f}\")"
   ]
  },
  {
   "cell_type": "code",
   "execution_count": null,
   "id": "432b8c5d0982f886",
   "metadata": {
    "ExecuteTime": {
     "end_time": "2024-07-24T15:49:24.329862Z",
     "start_time": "2024-07-24T15:49:24.238839Z"
    }
   },
   "outputs": [],
   "source": [
    "#Creating a graph to visualize tsvd variance\n",
    "tsvd_variance = svd.explained_variance_ratio_\n",
    "\n",
    "plt.figure(figsize=(10, 6))\n",
    "plt.plot(range(1, len(tsvd_variance) + 1), tsvd_variance, marker='o', linestyle='--')\n",
    "plt.xlabel('Scale')\n",
    "plt.ylabel('Variance Ratio')\n",
    "plt.title('Variance Ratio of Truncated SVD')\n",
    "plt.grid(True)\n",
    "plt.show()"
   ]
  }
 ],
 "metadata": {
  "kernelspec": {
   "display_name": "Python 3 (ipykernel)",
   "language": "python",
   "name": "python3"
  },
  "language_info": {
   "codemirror_mode": {
    "name": "ipython",
    "version": 3
   },
   "file_extension": ".py",
   "mimetype": "text/x-python",
   "name": "python",
   "nbconvert_exporter": "python",
   "pygments_lexer": "ipython3",
   "version": "3.10.4"
  }
 },
 "nbformat": 4,
 "nbformat_minor": 5
}

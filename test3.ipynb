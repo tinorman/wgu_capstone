{
 "cells": [
  {
   "cell_type": "code",
   "execution_count": null,
   "id": "initial_id",
   "metadata": {
    "collapsed": true
   },
   "outputs": [],
   "source": [
    "from IPython.core.display_functions import clear_output\n",
    "import pandas as pd\n",
    "from sklearn.feature_extraction.text import TfidfVectorizer\n",
    "from sklearn.neighbors import NearestNeighbors\n",
    "from IPython.display import display\n",
    "import ipywidgets as widgets\n",
    "\n",
    "movies_df = pd.read_csv('movies.csv')\n",
    "credits_df = pd.read_csv('credits.csv')\n",
    "\n",
    "ratings = movies_df.merge(credits_df, on='title', how='left')\n",
    "\n",
    "model = NearestNeighbors(metric='cosine', algorithm='auto')\n",
    "\n",
    "tfidf = TfidfVectorizer(stop_words='english')\n",
    "tfidf_matrix = tfidf.fit_transform(ratings['overview'].fillna(''))\n",
    "model.fit(tfidf_matrix)\n",
    "\n",
    "def movie_recommend(movie_title, ratings, model, top_n=10):\n",
    "    input_vector = tfidf.transform([movie_title])\n",
    "    \n",
    "    distances, indices = model.kneighbors(input_vector, n_neighbors=top_n+1)\n",
    "    \n",
    "    distances = distances.flatten()[1:]\n",
    "    indices = indices.flatten()[1:]\n",
    "    \n",
    "    recommendations = ratings.iloc[indices]['title'].tolist()\n",
    "    \n",
    "    return recommendations[:5]\n",
    "\n",
    "def user_interaction(movie_title):\n",
    "    movies_recommended = movie_recommend(movie_title, ratings, model)\n",
    "    if movies_recommended.empty:\n",
    "        display('Sorry, no recommendations for that title.')\n",
    "    else:\n",
    "        display(movies_recommended)\n",
    "        \n",
    "input_widget = widgets.Text(\n",
    "    placeholder='Enter a movie title...',\n",
    "    description='Movie Title: ',\n",
    "    disabled=False\n",
    ")\n",
    "\n",
    "button = widgets.Button(\n",
    "    description='Get Recommendations',\n",
    "    disabled=False,\n",
    "    button_style='',\n",
    "    tooltip='Get Recommendations',\n",
    "    icon='check'\n",
    ")\n",
    "\n",
    "def button_clicked():\n",
    "    clear_output()\n",
    "    display(input_widget, button)\n",
    "    user_interaction(input_widget.value)\n",
    "    \n",
    "input_widget.observe(input_widget, button_clicked)\n",
    "\n",
    "display(input_widget, button)"
   ]
  }
 ],
 "metadata": {
  "kernelspec": {
   "display_name": "Python 3",
   "language": "python",
   "name": "python3"
  },
  "language_info": {
   "codemirror_mode": {
    "name": "ipython",
    "version": 2
   },
   "file_extension": ".py",
   "mimetype": "text/x-python",
   "name": "python",
   "nbconvert_exporter": "python",
   "pygments_lexer": "ipython2",
   "version": "2.7.6"
  }
 },
 "nbformat": 4,
 "nbformat_minor": 5
}

{
 "cells": [
  {
   "cell_type": "markdown",
   "id": "f74f6a67-f761-4e40-9c0a-fa482bcbc99a",
   "metadata": {},
   "source": [
    "# First Program\n",
    "This is our first program that prints a message."
   ]
  },
  {
   "cell_type": "code",
   "execution_count": 3,
   "id": "3d70b316-d9b6-4d4b-b3d2-851a708b471e",
   "metadata": {},
   "outputs": [
    {
     "name": "stdout",
     "output_type": "stream",
     "text": [
      "Hello, world!\n"
     ]
    }
   ],
   "source": [
    "print('Hello, world!')"
   ]
  },
  {
   "cell_type": "code",
   "execution_count": null,
   "id": "9409e393-b5a5-4b03-bfc9-40b4a5ecc57b",
   "metadata": {},
   "outputs": [],
   "source": []
  }
 ],
 "metadata": {
  "kernelspec": {
   "display_name": "Python 3 (ipykernel)",
   "language": "python",
   "name": "python3"
  },
  "language_info": {
   "codemirror_mode": {
    "name": "ipython",
    "version": 3
   },
   "file_extension": ".py",
   "mimetype": "text/x-python",
   "name": "python",
   "nbconvert_exporter": "python",
   "pygments_lexer": "ipython3",
   "version": "3.10.4"
  }
 },
 "nbformat": 4,
 "nbformat_minor": 5
}
